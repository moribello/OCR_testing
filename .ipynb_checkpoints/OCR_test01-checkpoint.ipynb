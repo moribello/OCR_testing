{
 "cells": [
  {
   "cell_type": "code",
   "execution_count": 2,
   "metadata": {},
   "outputs": [],
   "source": [
    "from PIL import Image\n",
    "import numpy as np\n",
    "import pytesseract\n",
    "import os\n",
    "import cv2"
   ]
  },
  {
   "cell_type": "code",
   "execution_count": 9,
   "metadata": {},
   "outputs": [],
   "source": [
    "img = cv2.imread('Ferndale_CA_War_Memorial_Plaque.jpg',0)\n",
    "retval, img_adj = cv2.threshold(img, 150, 255, cv2.ADAPTIVE_THRESH_MEAN_C,\\\n",
    "            cv2.THRESH_BINARY_INV)\n",
    "#cv2.imshow('threshold',img_adj)\n",
    "#cv2.waitKey(0)\n",
    "#cv2.destroyAllWindows()\n",
    "#cv2.waitKey(1)"
   ]
  },
  {
   "cell_type": "code",
   "execution_count": 10,
   "metadata": {},
   "outputs": [
    {
     "name": "stdout",
     "output_type": "stream",
     "text": [
      "2X = A i410), 0 el ama\n",
      "\n",
      " \n",
      "\n",
      "SONS, BROTHERS, HUSBANDS & FATHERS\n",
      "OF THE FERNDALE AREA\n",
      "WHO GAVE THEIR LAST FULL MEASURE OF DEVOTION\n",
      "FOR THE GLORY OF GOD AND COUNTRY\n",
      "\n",
      "fo] thom 7\\ ae\n",
      "\n",
      "Jerrold J, Aggeler\n",
      "Joseph Caretti\n",
      "William P. Dilfon\n",
      "William H. Jensen\n",
      "Albert Joppas\n",
      "\n",
      "XS ae Ol t-te\n",
      "\n",
      "Arthur N. Rasmussen\n",
      "Otto P. Schoenemann\n",
      "Horold H. Tyrell\n",
      "\n",
      "KOREAN WAR\n",
      "\n",
      "Chester F. Reas, Jr.\n",
      "\n",
      "VIETNAM WAR\n",
      "Howard M. Gifford\n",
      "David E. Hubner\n",
      "Tie it J. dor borer\n",
      "L,le “2 .terts\n",
      "\n",
      "C' on eataae,\n",
      "\n",
      "Vee) tee N aa\n",
      "\n",
      "Richard L. Adoms, Jr.\n",
      "Gerald W. Beauchamp\n",
      "Morris A. Boots\n",
      "\n",
      "John B. Campbell\n",
      "Aldo DeCarli\n",
      "\n",
      "Takei ee hd hg\n",
      "\n",
      "Tony L. Gomes\n",
      "Matthies P. Hansen\n",
      "Leroy Lampella\n",
      "\n",
      "Frank P. Lewis\n",
      "\n",
      "Stuart R. Macklin\n",
      "Donald E. Pedrazzini\n",
      "Albert A. Pullen, Jr.\n",
      "Kenneth A. Rasmussen\n",
      "John D. Robertson, Ir.\n",
      "Robert WH. Smith\n",
      "Merritt Tompkins\n",
      "George E. Wilsen\n",
      "SAliit- te Mere a AoXetoltol-1.4\n",
      "\n",
      "DEDICATED NOVEMBER 117, 1993\n",
      "\n",
      "AMERICAN LEGION\n",
      "POST 559\n",
      "\n",
      " \n",
      "\n",
      "VETERAN'S OF FOREIGN SWARS\n",
      "\n",
      "2OST 6353\n"
     ]
    }
   ],
   "source": [
    "print(pytesseract.image_to_string(img_adj))"
   ]
  },
  {
   "cell_type": "code",
   "execution_count": null,
   "metadata": {},
   "outputs": [],
   "source": []
  }
 ],
 "metadata": {
  "kernelspec": {
   "display_name": "Python 3",
   "language": "python",
   "name": "python3"
  },
  "language_info": {
   "codemirror_mode": {
    "name": "ipython",
    "version": 3
   },
   "file_extension": ".py",
   "mimetype": "text/x-python",
   "name": "python",
   "nbconvert_exporter": "python",
   "pygments_lexer": "ipython3",
   "version": "3.7.6"
  }
 },
 "nbformat": 4,
 "nbformat_minor": 4
}
